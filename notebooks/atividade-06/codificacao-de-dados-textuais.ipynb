{
 "cells": [
  {
   "cell_type": "code",
   "execution_count": 4,
   "id": "cf4b4e45",
   "metadata": {},
   "outputs": [
    {
     "name": "stderr",
     "output_type": "stream",
     "text": [
      "[nltk_data] Downloading package punkt to /home/leocassio/nltk_data...\n",
      "[nltk_data]   Package punkt is already up-to-date!\n",
      "[nltk_data] Downloading package stopwords to\n",
      "[nltk_data]     /home/leocassio/nltk_data...\n",
      "[nltk_data]   Package stopwords is already up-to-date!\n"
     ]
    }
   ],
   "source": [
    "import nltk\n",
    "from nltk.tokenize import word_tokenize\n",
    "nltk.download('punkt')\n",
    "nltk.download('stopwords')\n",
    "from nltk.corpus import stopwords\n",
    "from nltk.stem.porter import PorterStemmer\n",
    "from sklearn.feature_extraction.text import CountVectorizer, TfidfVectorizer"
   ]
  },
  {
   "cell_type": "raw",
   "id": "732f6649",
   "metadata": {},
   "source": [
    "#bag-of-words\n",
    "\n",
    "É um algoritmo utilizado no Processamento de Liguagem Natural (PLN), ele é simples e tem como caracteristica apartir de um texto formar um saco de palavras como é conhecido. \n"
   ]
  },
  {
   "cell_type": "raw",
   "id": "fdf9b83a",
   "metadata": {},
   "source": [
    "TF-IDF significa Frequency Inverse Document Frequency of records\n",
    "\n",
    "É uma técnica estatística utilizada para incorporação de algoritmos como similaridade de cosseno, distância euclidiana, SVM e etc. Esse algoritmo tem como propósito indicar a importância de um documento em relação a um conjunto de outros documentos."
   ]
  },
  {
   "cell_type": "code",
   "execution_count": 5,
   "id": "8a7a7b31",
   "metadata": {},
   "outputs": [],
   "source": [
    "frases = [\n",
    "    \"John likes\",\n",
    "    \"likes to\",\n",
    "    \"to watch\",\n",
    "    \"watch movies\",\n",
    "    \"Mary likes\",\n",
    "    \"likes movies\",\n",
    "    \"movies too\",\n",
    "]\n",
    "frase = \"John likes to watch movies Mary likes movies too\""
   ]
  },
  {
   "cell_type": "code",
   "execution_count": 6,
   "id": "0804943b",
   "metadata": {},
   "outputs": [],
   "source": [
    "stemmer = PorterStemmer()\n",
    "token = word_tokenize(frase)\n",
    "token2 = [word_tokenize(x) for x in frases]\n",
    "stems = [stemmer.stem(x) for x in token]\n",
    "stems2 = [[stemmer.stem(x) for x in y] for y in token2]"
   ]
  },
  {
   "cell_type": "code",
   "execution_count": 7,
   "id": "62237081",
   "metadata": {},
   "outputs": [
    {
     "data": {
      "text/plain": [
       "['John', 'likes', 'to', 'watch', 'movies', 'Mary', 'likes', 'movies', 'too']"
      ]
     },
     "execution_count": 7,
     "metadata": {},
     "output_type": "execute_result"
    }
   ],
   "source": [
    "token"
   ]
  },
  {
   "cell_type": "code",
   "execution_count": 8,
   "id": "4cf317e8",
   "metadata": {},
   "outputs": [
    {
     "data": {
      "text/plain": [
       "[['John', 'likes'],\n",
       " ['likes', 'to'],\n",
       " ['to', 'watch'],\n",
       " ['watch', 'movies'],\n",
       " ['Mary', 'likes'],\n",
       " ['likes', 'movies'],\n",
       " ['movies', 'too']]"
      ]
     },
     "execution_count": 8,
     "metadata": {},
     "output_type": "execute_result"
    }
   ],
   "source": [
    "token2"
   ]
  },
  {
   "cell_type": "code",
   "execution_count": 9,
   "id": "b7417fa0",
   "metadata": {},
   "outputs": [
    {
     "name": "stdout",
     "output_type": "stream",
     "text": [
      "john\n",
      "like\n",
      "to\n",
      "watch\n",
      "movi\n",
      "mari\n",
      "like\n",
      "movi\n",
      "too\n"
     ]
    }
   ],
   "source": [
    "a = [print(x) for x in stems] "
   ]
  },
  {
   "cell_type": "code",
   "execution_count": 10,
   "id": "85621731",
   "metadata": {},
   "outputs": [],
   "source": [
    "bog = CountVectorizer()\n",
    "bog_data = bog.fit(frases)\n",
    "bog_transform = bog.transform(frases)"
   ]
  },
  {
   "cell_type": "code",
   "execution_count": null,
   "id": "eee77143",
   "metadata": {},
   "outputs": [],
   "source": []
  }
 ],
 "metadata": {
  "kernelspec": {
   "display_name": "Python 3 (ipykernel)",
   "language": "python",
   "name": "python3"
  },
  "language_info": {
   "codemirror_mode": {
    "name": "ipython",
    "version": 3
   },
   "file_extension": ".py",
   "mimetype": "text/x-python",
   "name": "python",
   "nbconvert_exporter": "python",
   "pygments_lexer": "ipython3",
   "version": "3.8.10"
  }
 },
 "nbformat": 4,
 "nbformat_minor": 5
}
