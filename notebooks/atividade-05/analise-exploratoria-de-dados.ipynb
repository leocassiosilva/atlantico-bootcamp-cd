{
 "cells": [
  {
   "cell_type": "code",
   "execution_count": null,
   "id": "22b1a998",
   "metadata": {},
   "outputs": [],
   "source": [
    "#Forbes Highest Paid Athletes 1990-2020"
   ]
  },
  {
   "cell_type": "code",
   "execution_count": 67,
   "id": "96b4c922",
   "metadata": {},
   "outputs": [],
   "source": [
    "from matplotlib import pyplot as plt\n",
    "import seaborn as sns\n",
    "import pandas as pd\n",
    "import numpy as np"
   ]
  },
  {
   "cell_type": "code",
   "execution_count": 68,
   "id": "2cab1300",
   "metadata": {},
   "outputs": [],
   "source": [
    "def lerArquivo(name):\n",
    "    df = pd.read_csv(name)\n",
    "    return df "
   ]
  },
  {
   "cell_type": "code",
   "execution_count": 69,
   "id": "a9903d78",
   "metadata": {},
   "outputs": [],
   "source": [
    "df = pd.DataFrame(lerArquivo('Forbes Richest Atheletes (Forbes Richest Athletes 1990-2020).csv'))\n"
   ]
  },
  {
   "cell_type": "code",
   "execution_count": 70,
   "id": "18944bef",
   "metadata": {},
   "outputs": [
    {
     "data": {
      "text/html": [
       "<div>\n",
       "<style scoped>\n",
       "    .dataframe tbody tr th:only-of-type {\n",
       "        vertical-align: middle;\n",
       "    }\n",
       "\n",
       "    .dataframe tbody tr th {\n",
       "        vertical-align: top;\n",
       "    }\n",
       "\n",
       "    .dataframe thead th {\n",
       "        text-align: right;\n",
       "    }\n",
       "</style>\n",
       "<table border=\"1\" class=\"dataframe\">\n",
       "  <thead>\n",
       "    <tr style=\"text-align: right;\">\n",
       "      <th></th>\n",
       "      <th>S.NO</th>\n",
       "      <th>Name</th>\n",
       "      <th>Nationality</th>\n",
       "      <th>Current Rank</th>\n",
       "      <th>Previous Year Rank</th>\n",
       "      <th>Sport</th>\n",
       "      <th>Year</th>\n",
       "      <th>earnings ($ million)</th>\n",
       "    </tr>\n",
       "  </thead>\n",
       "  <tbody>\n",
       "    <tr>\n",
       "      <th>0</th>\n",
       "      <td>1</td>\n",
       "      <td>Mike Tyson</td>\n",
       "      <td>USA</td>\n",
       "      <td>1</td>\n",
       "      <td>NaN</td>\n",
       "      <td>boxing</td>\n",
       "      <td>1990</td>\n",
       "      <td>28.6</td>\n",
       "    </tr>\n",
       "    <tr>\n",
       "      <th>1</th>\n",
       "      <td>2</td>\n",
       "      <td>Buster Douglas</td>\n",
       "      <td>USA</td>\n",
       "      <td>2</td>\n",
       "      <td>NaN</td>\n",
       "      <td>boxing</td>\n",
       "      <td>1990</td>\n",
       "      <td>26.0</td>\n",
       "    </tr>\n",
       "    <tr>\n",
       "      <th>2</th>\n",
       "      <td>3</td>\n",
       "      <td>Sugar Ray Leonard</td>\n",
       "      <td>USA</td>\n",
       "      <td>3</td>\n",
       "      <td>NaN</td>\n",
       "      <td>boxing</td>\n",
       "      <td>1990</td>\n",
       "      <td>13.0</td>\n",
       "    </tr>\n",
       "    <tr>\n",
       "      <th>3</th>\n",
       "      <td>4</td>\n",
       "      <td>Ayrton Senna</td>\n",
       "      <td>Brazil</td>\n",
       "      <td>4</td>\n",
       "      <td>NaN</td>\n",
       "      <td>auto racing</td>\n",
       "      <td>1990</td>\n",
       "      <td>10.0</td>\n",
       "    </tr>\n",
       "    <tr>\n",
       "      <th>4</th>\n",
       "      <td>5</td>\n",
       "      <td>Alain Prost</td>\n",
       "      <td>France</td>\n",
       "      <td>5</td>\n",
       "      <td>NaN</td>\n",
       "      <td>auto racing</td>\n",
       "      <td>1990</td>\n",
       "      <td>9.0</td>\n",
       "    </tr>\n",
       "  </tbody>\n",
       "</table>\n",
       "</div>"
      ],
      "text/plain": [
       "   S.NO               Name Nationality  Current Rank Previous Year Rank  \\\n",
       "0     1         Mike Tyson         USA             1                NaN   \n",
       "1     2     Buster Douglas         USA             2                NaN   \n",
       "2     3  Sugar Ray Leonard         USA             3                NaN   \n",
       "3     4       Ayrton Senna      Brazil             4                NaN   \n",
       "4     5        Alain Prost      France             5                NaN   \n",
       "\n",
       "         Sport  Year  earnings ($ million)  \n",
       "0       boxing  1990                  28.6  \n",
       "1       boxing  1990                  26.0  \n",
       "2       boxing  1990                  13.0  \n",
       "3  auto racing  1990                  10.0  \n",
       "4  auto racing  1990                   9.0  "
      ]
     },
     "execution_count": 70,
     "metadata": {},
     "output_type": "execute_result"
    }
   ],
   "source": [
    "df.head()"
   ]
  },
  {
   "cell_type": "markdown",
   "id": "3cf9efe8",
   "metadata": {},
   "source": [
    "Tipos de dados"
   ]
  },
  {
   "cell_type": "code",
   "execution_count": 71,
   "id": "d745fe63",
   "metadata": {},
   "outputs": [
    {
     "data": {
      "text/plain": [
       "S.NO                      int64\n",
       "Name                     object\n",
       "Nationality              object\n",
       "Current Rank              int64\n",
       "Previous Year Rank       object\n",
       "Sport                    object\n",
       "Year                      int64\n",
       "earnings ($ million)    float64\n",
       "dtype: object"
      ]
     },
     "execution_count": 71,
     "metadata": {},
     "output_type": "execute_result"
    }
   ],
   "source": [
    "df.dtypes"
   ]
  },
  {
   "cell_type": "code",
   "execution_count": 72,
   "id": "80ec40cd",
   "metadata": {},
   "outputs": [
    {
     "data": {
      "text/plain": [
       "S.NO                     0\n",
       "Name                     0\n",
       "Nationality              0\n",
       "Current Rank             0\n",
       "Previous Year Rank      24\n",
       "Sport                    0\n",
       "Year                     0\n",
       "earnings ($ million)     0\n",
       "dtype: int64"
      ]
     },
     "execution_count": 72,
     "metadata": {},
     "output_type": "execute_result"
    }
   ],
   "source": [
    "# Campos Nulos\n",
    "df.isnull().sum()"
   ]
  },
  {
   "cell_type": "code",
   "execution_count": 73,
   "id": "4aca32f8",
   "metadata": {},
   "outputs": [
    {
     "name": "stdout",
     "output_type": "stream",
     "text": [
      "<class 'pandas.core.frame.DataFrame'>\n",
      "RangeIndex: 301 entries, 0 to 300\n",
      "Data columns (total 8 columns):\n",
      " #   Column                Non-Null Count  Dtype  \n",
      "---  ------                --------------  -----  \n",
      " 0   S.NO                  301 non-null    int64  \n",
      " 1   Name                  301 non-null    object \n",
      " 2   Nationality           301 non-null    object \n",
      " 3   Current Rank          301 non-null    int64  \n",
      " 4   Previous Year Rank    277 non-null    object \n",
      " 5   Sport                 301 non-null    object \n",
      " 6   Year                  301 non-null    int64  \n",
      " 7   earnings ($ million)  301 non-null    float64\n",
      "dtypes: float64(1), int64(3), object(4)\n",
      "memory usage: 18.9+ KB\n"
     ]
    }
   ],
   "source": [
    "# Analisar o tipo da informação\n",
    "df.info()"
   ]
  },
  {
   "cell_type": "code",
   "execution_count": 74,
   "id": "f0a9de7a",
   "metadata": {},
   "outputs": [
    {
     "data": {
      "text/html": [
       "<div>\n",
       "<style scoped>\n",
       "    .dataframe tbody tr th:only-of-type {\n",
       "        vertical-align: middle;\n",
       "    }\n",
       "\n",
       "    .dataframe tbody tr th {\n",
       "        vertical-align: top;\n",
       "    }\n",
       "\n",
       "    .dataframe thead th {\n",
       "        text-align: right;\n",
       "    }\n",
       "</style>\n",
       "<table border=\"1\" class=\"dataframe\">\n",
       "  <thead>\n",
       "    <tr style=\"text-align: right;\">\n",
       "      <th></th>\n",
       "      <th>S.NO</th>\n",
       "      <th>Current Rank</th>\n",
       "      <th>Year</th>\n",
       "      <th>earnings ($ million)</th>\n",
       "    </tr>\n",
       "  </thead>\n",
       "  <tbody>\n",
       "    <tr>\n",
       "      <th>count</th>\n",
       "      <td>301.000000</td>\n",
       "      <td>301.000000</td>\n",
       "      <td>301.000000</td>\n",
       "      <td>301.000000</td>\n",
       "    </tr>\n",
       "    <tr>\n",
       "      <th>mean</th>\n",
       "      <td>151.000000</td>\n",
       "      <td>5.448505</td>\n",
       "      <td>2005.122924</td>\n",
       "      <td>45.516279</td>\n",
       "    </tr>\n",
       "    <tr>\n",
       "      <th>std</th>\n",
       "      <td>87.035433</td>\n",
       "      <td>2.850995</td>\n",
       "      <td>9.063563</td>\n",
       "      <td>33.525337</td>\n",
       "    </tr>\n",
       "    <tr>\n",
       "      <th>min</th>\n",
       "      <td>1.000000</td>\n",
       "      <td>1.000000</td>\n",
       "      <td>1990.000000</td>\n",
       "      <td>8.100000</td>\n",
       "    </tr>\n",
       "    <tr>\n",
       "      <th>25%</th>\n",
       "      <td>76.000000</td>\n",
       "      <td>3.000000</td>\n",
       "      <td>1997.000000</td>\n",
       "      <td>24.000000</td>\n",
       "    </tr>\n",
       "    <tr>\n",
       "      <th>50%</th>\n",
       "      <td>151.000000</td>\n",
       "      <td>5.000000</td>\n",
       "      <td>2005.000000</td>\n",
       "      <td>39.000000</td>\n",
       "    </tr>\n",
       "    <tr>\n",
       "      <th>75%</th>\n",
       "      <td>226.000000</td>\n",
       "      <td>8.000000</td>\n",
       "      <td>2013.000000</td>\n",
       "      <td>59.400000</td>\n",
       "    </tr>\n",
       "    <tr>\n",
       "      <th>max</th>\n",
       "      <td>301.000000</td>\n",
       "      <td>10.000000</td>\n",
       "      <td>2020.000000</td>\n",
       "      <td>300.000000</td>\n",
       "    </tr>\n",
       "  </tbody>\n",
       "</table>\n",
       "</div>"
      ],
      "text/plain": [
       "             S.NO  Current Rank         Year  earnings ($ million)\n",
       "count  301.000000    301.000000   301.000000            301.000000\n",
       "mean   151.000000      5.448505  2005.122924             45.516279\n",
       "std     87.035433      2.850995     9.063563             33.525337\n",
       "min      1.000000      1.000000  1990.000000              8.100000\n",
       "25%     76.000000      3.000000  1997.000000             24.000000\n",
       "50%    151.000000      5.000000  2005.000000             39.000000\n",
       "75%    226.000000      8.000000  2013.000000             59.400000\n",
       "max    301.000000     10.000000  2020.000000            300.000000"
      ]
     },
     "execution_count": 74,
     "metadata": {},
     "output_type": "execute_result"
    }
   ],
   "source": [
    "# Analises Estatisticas\n",
    "df.describe()"
   ]
  },
  {
   "cell_type": "code",
   "execution_count": 75,
   "id": "92c35d41",
   "metadata": {},
   "outputs": [
    {
     "data": {
      "text/html": [
       "<div>\n",
       "<style scoped>\n",
       "    .dataframe tbody tr th:only-of-type {\n",
       "        vertical-align: middle;\n",
       "    }\n",
       "\n",
       "    .dataframe tbody tr th {\n",
       "        vertical-align: top;\n",
       "    }\n",
       "\n",
       "    .dataframe thead th {\n",
       "        text-align: right;\n",
       "    }\n",
       "</style>\n",
       "<table border=\"1\" class=\"dataframe\">\n",
       "  <thead>\n",
       "    <tr style=\"text-align: right;\">\n",
       "      <th></th>\n",
       "      <th>earnings ($ million)</th>\n",
       "    </tr>\n",
       "  </thead>\n",
       "  <tbody>\n",
       "    <tr>\n",
       "      <th>0</th>\n",
       "      <td>28.6</td>\n",
       "    </tr>\n",
       "    <tr>\n",
       "      <th>1</th>\n",
       "      <td>26.0</td>\n",
       "    </tr>\n",
       "    <tr>\n",
       "      <th>2</th>\n",
       "      <td>13.0</td>\n",
       "    </tr>\n",
       "    <tr>\n",
       "      <th>3</th>\n",
       "      <td>10.0</td>\n",
       "    </tr>\n",
       "    <tr>\n",
       "      <th>4</th>\n",
       "      <td>9.0</td>\n",
       "    </tr>\n",
       "  </tbody>\n",
       "</table>\n",
       "</div>"
      ],
      "text/plain": [
       "   earnings ($ million)\n",
       "0                  28.6\n",
       "1                  26.0\n",
       "2                  13.0\n",
       "3                  10.0\n",
       "4                   9.0"
      ]
     },
     "execution_count": 75,
     "metadata": {},
     "output_type": "execute_result"
    }
   ],
   "source": [
    "#Selecionando as colunas\n",
    "colunasSelecionadas = ['earnings ($ million)']\n",
    "\n",
    "#Fazendo a filtragem das colunas selecionadas\n",
    "df_colunas_selecionadas = df.filter(items=colunasSelecionadas)\n",
    "df_colunas_selecionadas.head()"
   ]
  },
  {
   "cell_type": "code",
   "execution_count": 76,
   "id": "3469dc09",
   "metadata": {},
   "outputs": [
    {
     "data": {
      "text/plain": [
       "earnings ($ million)    45.516279\n",
       "dtype: float64"
      ]
     },
     "execution_count": 76,
     "metadata": {},
     "output_type": "execute_result"
    }
   ],
   "source": [
    "#media\n",
    "df_colunas_selecionadas.mean()"
   ]
  },
  {
   "cell_type": "code",
   "execution_count": 77,
   "id": "c34d45ab",
   "metadata": {},
   "outputs": [
    {
     "data": {
      "text/plain": [
       "earnings ($ million)    39.0\n",
       "dtype: float64"
      ]
     },
     "execution_count": 77,
     "metadata": {},
     "output_type": "execute_result"
    }
   ],
   "source": [
    "#mediana da coluna earnings ($ million)\n",
    "df_colunas_selecionadas.median()"
   ]
  },
  {
   "cell_type": "code",
   "execution_count": 78,
   "id": "402698ba",
   "metadata": {},
   "outputs": [
    {
     "data": {
      "text/html": [
       "<div>\n",
       "<style scoped>\n",
       "    .dataframe tbody tr th:only-of-type {\n",
       "        vertical-align: middle;\n",
       "    }\n",
       "\n",
       "    .dataframe tbody tr th {\n",
       "        vertical-align: top;\n",
       "    }\n",
       "\n",
       "    .dataframe thead th {\n",
       "        text-align: right;\n",
       "    }\n",
       "</style>\n",
       "<table border=\"1\" class=\"dataframe\">\n",
       "  <thead>\n",
       "    <tr style=\"text-align: right;\">\n",
       "      <th></th>\n",
       "      <th>earnings ($ million)</th>\n",
       "    </tr>\n",
       "  </thead>\n",
       "  <tbody>\n",
       "    <tr>\n",
       "      <th>0</th>\n",
       "      <td>35.0</td>\n",
       "    </tr>\n",
       "    <tr>\n",
       "      <th>1</th>\n",
       "      <td>40.0</td>\n",
       "    </tr>\n",
       "  </tbody>\n",
       "</table>\n",
       "</div>"
      ],
      "text/plain": [
       "   earnings ($ million)\n",
       "0                  35.0\n",
       "1                  40.0"
      ]
     },
     "execution_count": 78,
     "metadata": {},
     "output_type": "execute_result"
    }
   ],
   "source": [
    "df_colunas_selecionadas.mode()"
   ]
  },
  {
   "cell_type": "code",
   "execution_count": 144,
   "id": "2035454a",
   "metadata": {},
   "outputs": [
    {
     "data": {
      "text/plain": [
       "earnings ($ million)    3.101979\n",
       "dtype: float64"
      ]
     },
     "execution_count": 144,
     "metadata": {},
     "output_type": "execute_result"
    }
   ],
   "source": [
    "df_colunas_selecionadas.skew()"
   ]
  },
  {
   "cell_type": "code",
   "execution_count": 83,
   "id": "344c2dd5",
   "metadata": {},
   "outputs": [],
   "source": [
    "#Seleciona as duas colunas Year e valor\n",
    "colunasSelecionadas = ['Year','earnings ($ million)']"
   ]
  },
  {
   "cell_type": "code",
   "execution_count": 84,
   "id": "71d88cc7",
   "metadata": {},
   "outputs": [
    {
     "data": {
      "text/html": [
       "<div>\n",
       "<style scoped>\n",
       "    .dataframe tbody tr th:only-of-type {\n",
       "        vertical-align: middle;\n",
       "    }\n",
       "\n",
       "    .dataframe tbody tr th {\n",
       "        vertical-align: top;\n",
       "    }\n",
       "\n",
       "    .dataframe thead th {\n",
       "        text-align: right;\n",
       "    }\n",
       "</style>\n",
       "<table border=\"1\" class=\"dataframe\">\n",
       "  <thead>\n",
       "    <tr style=\"text-align: right;\">\n",
       "      <th></th>\n",
       "      <th>Year</th>\n",
       "      <th>earnings ($ million)</th>\n",
       "    </tr>\n",
       "  </thead>\n",
       "  <tbody>\n",
       "    <tr>\n",
       "      <th>0</th>\n",
       "      <td>1990</td>\n",
       "      <td>28.6</td>\n",
       "    </tr>\n",
       "    <tr>\n",
       "      <th>1</th>\n",
       "      <td>1990</td>\n",
       "      <td>26.0</td>\n",
       "    </tr>\n",
       "    <tr>\n",
       "      <th>2</th>\n",
       "      <td>1990</td>\n",
       "      <td>13.0</td>\n",
       "    </tr>\n",
       "    <tr>\n",
       "      <th>3</th>\n",
       "      <td>1990</td>\n",
       "      <td>10.0</td>\n",
       "    </tr>\n",
       "    <tr>\n",
       "      <th>4</th>\n",
       "      <td>1990</td>\n",
       "      <td>9.0</td>\n",
       "    </tr>\n",
       "    <tr>\n",
       "      <th>...</th>\n",
       "      <td>...</td>\n",
       "      <td>...</td>\n",
       "    </tr>\n",
       "    <tr>\n",
       "      <th>296</th>\n",
       "      <td>2020</td>\n",
       "      <td>74.4</td>\n",
       "    </tr>\n",
       "    <tr>\n",
       "      <th>297</th>\n",
       "      <td>2020</td>\n",
       "      <td>63.9</td>\n",
       "    </tr>\n",
       "    <tr>\n",
       "      <th>298</th>\n",
       "      <td>2020</td>\n",
       "      <td>62.3</td>\n",
       "    </tr>\n",
       "    <tr>\n",
       "      <th>299</th>\n",
       "      <td>2020</td>\n",
       "      <td>60.5</td>\n",
       "    </tr>\n",
       "    <tr>\n",
       "      <th>300</th>\n",
       "      <td>2020</td>\n",
       "      <td>59.1</td>\n",
       "    </tr>\n",
       "  </tbody>\n",
       "</table>\n",
       "<p>301 rows × 2 columns</p>\n",
       "</div>"
      ],
      "text/plain": [
       "     Year  earnings ($ million)\n",
       "0    1990                  28.6\n",
       "1    1990                  26.0\n",
       "2    1990                  13.0\n",
       "3    1990                  10.0\n",
       "4    1990                   9.0\n",
       "..    ...                   ...\n",
       "296  2020                  74.4\n",
       "297  2020                  63.9\n",
       "298  2020                  62.3\n",
       "299  2020                  60.5\n",
       "300  2020                  59.1\n",
       "\n",
       "[301 rows x 2 columns]"
      ]
     },
     "execution_count": 84,
     "metadata": {},
     "output_type": "execute_result"
    }
   ],
   "source": [
    "#Fazendo a filtragem das colunas selecionadas\n",
    "df_colunasSelecionadas = df.filter(items=colunasSelecionadas)\n",
    "df_colunasSelecionadas"
   ]
  },
  {
   "cell_type": "code",
   "execution_count": 111,
   "id": "89ed5145",
   "metadata": {},
   "outputs": [
    {
     "data": {
      "text/html": [
       "<div>\n",
       "<style scoped>\n",
       "    .dataframe tbody tr th:only-of-type {\n",
       "        vertical-align: middle;\n",
       "    }\n",
       "\n",
       "    .dataframe tbody tr th {\n",
       "        vertical-align: top;\n",
       "    }\n",
       "\n",
       "    .dataframe thead th {\n",
       "        text-align: right;\n",
       "    }\n",
       "</style>\n",
       "<table border=\"1\" class=\"dataframe\">\n",
       "  <thead>\n",
       "    <tr style=\"text-align: right;\">\n",
       "      <th></th>\n",
       "      <th>Year</th>\n",
       "    </tr>\n",
       "    <tr>\n",
       "      <th>earnings ($ million)</th>\n",
       "      <th></th>\n",
       "    </tr>\n",
       "  </thead>\n",
       "  <tbody>\n",
       "    <tr>\n",
       "      <th>8.1</th>\n",
       "      <td>3</td>\n",
       "    </tr>\n",
       "    <tr>\n",
       "      <th>8.5</th>\n",
       "      <td>3</td>\n",
       "    </tr>\n",
       "    <tr>\n",
       "      <th>8.6</th>\n",
       "      <td>1</td>\n",
       "    </tr>\n",
       "    <tr>\n",
       "      <th>9.0</th>\n",
       "      <td>3</td>\n",
       "    </tr>\n",
       "    <tr>\n",
       "      <th>9.2</th>\n",
       "      <td>1</td>\n",
       "    </tr>\n",
       "    <tr>\n",
       "      <th>...</th>\n",
       "      <td>...</td>\n",
       "    </tr>\n",
       "    <tr>\n",
       "      <th>115.0</th>\n",
       "      <td>1</td>\n",
       "    </tr>\n",
       "    <tr>\n",
       "      <th>127.0</th>\n",
       "      <td>1</td>\n",
       "    </tr>\n",
       "    <tr>\n",
       "      <th>160.0</th>\n",
       "      <td>1</td>\n",
       "    </tr>\n",
       "    <tr>\n",
       "      <th>285.0</th>\n",
       "      <td>1</td>\n",
       "    </tr>\n",
       "    <tr>\n",
       "      <th>300.0</th>\n",
       "      <td>1</td>\n",
       "    </tr>\n",
       "  </tbody>\n",
       "</table>\n",
       "<p>198 rows × 1 columns</p>\n",
       "</div>"
      ],
      "text/plain": [
       "                      Year\n",
       "earnings ($ million)      \n",
       "8.1                      3\n",
       "8.5                      3\n",
       "8.6                      1\n",
       "9.0                      3\n",
       "9.2                      1\n",
       "...                    ...\n",
       "115.0                    1\n",
       "127.0                    1\n",
       "160.0                    1\n",
       "285.0                    1\n",
       "300.0                    1\n",
       "\n",
       "[198 rows x 1 columns]"
      ]
     },
     "execution_count": 111,
     "metadata": {},
     "output_type": "execute_result"
    }
   ],
   "source": [
    "#Quais valores foram pagos em um mesmo ano ? \n",
    "df_colunasSelecionadas.groupby('earnings ($ million)').count()"
   ]
  },
  {
   "cell_type": "code",
   "execution_count": 110,
   "id": "ec53dae9",
   "metadata": {},
   "outputs": [
    {
     "data": {
      "text/plain": [
       "array([[<AxesSubplot:title={'center':'Year'}>]], dtype=object)"
      ]
     },
     "execution_count": 110,
     "metadata": {},
     "output_type": "execute_result"
    },
    {
     "data": {
      "image/png": "[encoded data removed]",
      "text/plain": [
       "<Figure size 432x288 with 1 Axes>"
      ]
     },
     "metadata": {
      "needs_background": "light"
     },
     "output_type": "display_data"
    }
   ],
   "source": [
    "#Quais valores foram pagos em um mesmo ano ? \n",
    "df_colunasSelecionadas.groupby('earnings ($ million)').count().hist()"
   ]
  },
  {
   "cell_type": "code",
   "execution_count": 127,
   "id": "96a83363",
   "metadata": {},
   "outputs": [
    {
     "data": {
      "text/plain": [
       "[<matplotlib.lines.Line2D at 0x7fc9a2c4f8b0>]"
      ]
     },
     "execution_count": 127,
     "metadata": {},
     "output_type": "execute_result"
    },
    {
     "data": {
      "image/png": "[encoded data removed]",
      "text/plain": [
       "<Figure size 432x288 with 1 Axes>"
      ]
     },
     "metadata": {
      "needs_background": "light"
     },
     "output_type": "display_data"
    }
   ],
   "source": [
    "plt.plot(df_colunasSelecionadas.groupby(['Year']).describe()['earnings ($ million)']['std'])"
   ]
  },
  {
   "cell_type": "code",
   "execution_count": 141,
   "id": "b2fc3980",
   "metadata": {},
   "outputs": [
    {
     "data": {
      "image/png": "[encoded data removed]",
      "text/plain": [
       "<Figure size 1152x360 with 1 Axes>"
      ]
     },
     "metadata": {},
     "output_type": "display_data"
    }
   ],
   "source": [
    "# Estilo\n",
    "plt.style.use('seaborn-dark')\n",
    "\n",
    "# Tamanho\n",
    "plt.figure( figsize=(16,5) )\n",
    "\n",
    "# Calculando a media móvel\n",
    "Media_Movel = df_colunasSelecionadas['Year'].rolling(5).mean()\n",
    "Media_Tendencia = df_colunasSelecionadas['Year'].rolling(30).mean()\n",
    "\n",
    "# Plotando a ação espeficifico\n",
    "plt.plot( df_colunasSelecionadas.index, df_colunasSelecionadas['Year'], color='#004E9F', linewidth=2, alpha=0.5)\n",
    "plt.plot( df_colunasSelecionadas.index, Media_Movel, color='#00652E', linewidth=2, alpha=0.7 )\n",
    "plt.plot( df_colunasSelecionadas.index, Media_Tendencia, color='#ED6E0C', linewidth=2, alpha=0.7 )\n",
    "\n",
    "plt.legend( ['Year', 'Média Móvel', 'Tendência'], ncol=4, fontsize=12, loc='upper center',\n",
    "           bbox_to_anchor=(0.5, -0.1), shadow=True )\n",
    "\n",
    "plt.xlabel('Período histórico')\n",
    "plt.ylabel('Preço de fechamento das ações', fontsize=12)\n",
    "\n",
    "plt.title('Fechamento ações da Magalu', \n",
    "          loc='center', fontsize=18, fontweight=0, color='gray');"
   ]
  },
  {
   "cell_type": "code",
   "execution_count": 148,
   "id": "b3a0df93",
   "metadata": {},
   "outputs": [
    {
     "data": {
      "image/png": "[encoded data removed]",
      "text/plain": [
       "<Figure size 864x432 with 1 Axes>"
      ]
     },
     "metadata": {},
     "output_type": "display_data"
    }
   ],
   "source": [
    "plot=df.sort_values('earnings ($ million)',ascending=False).head(10).plot.bar(x='Name',y='earnings ($ million)',figsize=(12,6));\n",
    "plt.title('Os 10 atletas mais bem pagos (1990-2020)');\n",
    "for bar in plot.patches:\n",
    "    plot.annotate(format(bar.get_height(), '.1f'), (bar.get_x() + bar.get_width() / 2, bar.get_height()), ha = 'center', va = 'center', \n",
    "                   size=8,xytext = (0, 8), \n",
    "                   textcoords = 'offset points')\n",
    "plt.ylabel('Earnings ($ million)');"
   ]
  },
  {
   "cell_type": "code",
   "execution_count": 150,
   "id": "399fab83",
   "metadata": {},
   "outputs": [
    {
     "data": {
      "image/png": "[encoded data removed]",
      "text/plain": [
       "<Figure size 432x288 with 1 Axes>"
      ]
     },
     "metadata": {},
     "output_type": "display_data"
    }
   ],
   "source": [
    "df.groupby('Sport')['earnings ($ million)'].sum().sort_values(ascending=False).plot(kind='bar')\n",
    "plt.ylabel('Earnings (in million)')\n",
    "plt.xlabel('Sport')\n",
    "plt.title('Pagamento total dos atletas mais bem pagos 1990-2020')\n",
    "plt.show();"
   ]
  },
  {
   "cell_type": "code",
   "execution_count": null,
   "id": "c55cec42",
   "metadata": {},
   "outputs": [],
   "source": []
  },
  {
   "cell_type": "code",
   "execution_count": null,
   "id": "d0cff717",
   "metadata": {},
   "outputs": [],
   "source": []
  }
 ],
 "metadata": {
  "kernelspec": {
   "display_name": "Python 3 (ipykernel)",
   "language": "python",
   "name": "python3"
  },
  "language_info": {
   "codemirror_mode": {
    "name": "ipython",
    "version": 3
   },
   "file_extension": ".py",
   "mimetype": "text/x-python",
   "name": "python",
   "nbconvert_exporter": "python",
   "pygments_lexer": "ipython3",
   "version": "3.8.10"
  }
 },
 "nbformat": 4,
 "nbformat_minor": 5
}
